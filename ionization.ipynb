{
 "cells": [
  {
   "cell_type": "markdown",
   "id": "48e26c5d",
   "metadata": {},
   "source": [
    "# **Part 2: Ionization**\n",
    "\n",
    "**Goals:**\n",
    "\n",
    "*   Determine Hg ionization energy.\n"
   ]
  },
  {
   "cell_type": "code",
   "execution_count": 1,
   "id": "3173a4ed",
   "metadata": {},
   "outputs": [],
   "source": [
    "import pandas as pd\n",
    "import numpy as np\n",
    "import seaborn as sns\n",
    "import matplotlib.pyplot as plt\n",
    "import plotly.express as px\n",
    "from scipy.optimize import curve_fit"
   ]
  },
  {
   "cell_type": "markdown",
   "id": "242c0bfb",
   "metadata": {},
   "source": [
    "**Reading the datasets**"
   ]
  },
  {
   "cell_type": "code",
   "execution_count": 4,
   "id": "308f4eb2",
   "metadata": {},
   "outputs": [],
   "source": [
    "# T = 50ºC\n",
    "\n",
    "t50 = np.loadtxt('Data\\Ionization\\ion-T50-VA16-G90.txt')\n",
    "dft50 = pd.DataFrame(t50, columns=['VA', 'Current (a.u.)', 'Temperature (ºC)'])\n",
    "\n",
    "# T = 70ºC\n",
    "\n",
    "t70 = np.loadtxt('Data\\Ionization\\ion-T70-VA16-G90.txt')\n",
    "dft70 = pd.DataFrame(t70, columns=['VA', 'Current (a.u.)', 'Temperature (ºC)'])\n",
    "\n",
    "# T = 90ºC\n",
    "\n",
    "t90 = np.loadtxt('Data\\Ionization\\ion-T90-VA16-G90.txt')\n",
    "dft90 = pd.DataFrame(t90, columns=['VA', 'Current (a.u.)', 'Temperature (ºC)'])"
   ]
  },
  {
   "cell_type": "markdown",
   "id": "6fcf2a58",
   "metadata": {},
   "source": [
    "**Plotting**"
   ]
  }
 ],
 "metadata": {
  "kernelspec": {
   "display_name": "Python 3 (ipykernel)",
   "language": "python",
   "name": "python3"
  },
  "language_info": {
   "codemirror_mode": {
    "name": "ipython",
    "version": 3
   },
   "file_extension": ".py",
   "mimetype": "text/x-python",
   "name": "python",
   "nbconvert_exporter": "python",
   "pygments_lexer": "ipython3",
   "version": "3.9.7"
  }
 },
 "nbformat": 4,
 "nbformat_minor": 5
}
