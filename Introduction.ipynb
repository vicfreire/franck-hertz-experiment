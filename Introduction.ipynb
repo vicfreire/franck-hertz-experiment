{
 "cells": [
  {
   "cell_type": "markdown",
   "id": "42a7dfc0",
   "metadata": {},
   "source": [
    "# **Introduction**\n",
    "\n",
    "This experiment was performed at Physics Institute, University of Sao Paulo and it is part of modern physics laboratory classes.\n",
    "The Frack-Hertz experiment confirmed the  quantized nature of an atom energy states. \n",
    "Using Hg gas, \n",
    "\n",
    "## **Part one: excitation**\n",
    "\n",
    "\n"
   ]
  }
 ],
 "metadata": {
  "kernelspec": {
   "display_name": "Python 3 (ipykernel)",
   "language": "python",
   "name": "python3"
  },
  "language_info": {
   "codemirror_mode": {
    "name": "ipython",
    "version": 3
   },
   "file_extension": ".py",
   "mimetype": "text/x-python",
   "name": "python",
   "nbconvert_exporter": "python",
   "pygments_lexer": "ipython3",
   "version": "3.9.7"
  }
 },
 "nbformat": 4,
 "nbformat_minor": 5
}
